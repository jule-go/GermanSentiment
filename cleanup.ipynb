{
 "cells": [
  {
   "cell_type": "markdown",
   "metadata": {},
   "source": [
    "Author: [Jule Godbersen](mailto:godbersj@tcd.ie)\n",
    "\n",
    "Content of file: Cleaning up this repository to make sure that no parts of the original dataset are uploaded on git.\n",
    "(This means I make sure in the predictions there's no text, and gold label associated with each other)"
   ]
  },
  {
   "cell_type": "code",
   "execution_count": 13,
   "metadata": {},
   "outputs": [],
   "source": [
    "import os\n",
    "import pickle"
   ]
  },
  {
   "cell_type": "code",
   "execution_count": 15,
   "metadata": {},
   "outputs": [],
   "source": [
    "# create a hidden folder that is used for the things that will not be uploaded\n",
    "\n",
    "# note: no need to run this cell if the folders already exist!\n",
    "os.makedirs(\"hidden\")\n",
    "os.makedirs(\"predictions\")"
   ]
  },
  {
   "cell_type": "code",
   "execution_count": 16,
   "metadata": {},
   "outputs": [],
   "source": [
    "qualitative_file_identifiers = [\"baseline_model_qualitative\",\n",
    "                                \"model0_english_test_qualitative\",\"model0_german_test_qualitative\",\"model1_english_test_qualitative\",\"model1_german_test_qualitative\",\n",
    "                                \"model2_german_test_qualitative\",\"model3_german_test_qualitative\",\n",
    "                                \"model4_german_test_qualitative\",\"model5_german_test_qualitative\",\n",
    "                                \"model6_german_test_qualitative\",\"model7_german_test_qualitative\",\n",
    "                                \"model8_german_test_qualitative\",\"model9_german_test_qualitative\",]\n",
    "prediction_file_identifiers = [\"predictions_german_test_baseline\",\n",
    "                               \"predictions_english_test_0\",\"predictions_english_test_1\",\n",
    "                               \"predictions_german_test_0\",\"predictions_german_test_1\",\n",
    "                               \"predictions_german_test_2\",\"predictions_german_test_3\",\n",
    "                               \"predictions_german_test_4\",\"predictions_german_test_5\",\n",
    "                               \"predictions_german_test_6\",\"predictions_german_test_7\",\n",
    "                               \"predictions_german_test_8\",\"predictions_german_test_9\"]"
   ]
  },
  {
   "cell_type": "code",
   "execution_count": 17,
   "metadata": {},
   "outputs": [],
   "source": [
    "path_to_repository = \"/mount/studenten-temp1/users/godberja/GermanSentiment/\" # TODO you need to adapt this when running yourself"
   ]
  },
  {
   "cell_type": "code",
   "execution_count": 18,
   "metadata": {},
   "outputs": [],
   "source": [
    "def move_file(file_identifier,file_type, from_folder,to_folder):\n",
    "    \"\"\"Moves a file from the from_folder location to the to_folder location.\n",
    "\n",
    "    Args:\n",
    "        file_identifier (str): is the pure file name (without the file ending)\n",
    "        file_type (str): is the file ending, e.g. \"txt\n",
    "        from_folder (str): folder name where file is located at, e.g. \"evaluation\"\n",
    "        to_folder (str): folder name where file should be moved to, e.g. \"hidden\n",
    "    \"\"\"\n",
    "    current_file_path = path_to_repository + from_folder + \"/\"+file_identifier+\".\"+file_type\n",
    "    new_file_path = path_to_repository + to_folder+\"/\"+file_identifier+\".\"+file_type\n",
    "    os.rename(current_file_path, new_file_path)"
   ]
  },
  {
   "cell_type": "code",
   "execution_count": 19,
   "metadata": {},
   "outputs": [],
   "source": [
    "# move files with predictions for qualitative analysis to hidden folder\n",
    "for file_id in qualitative_file_identifiers:\n",
    "    move_file(file_id,\"json\",\"evaluation\",\"hidden\")"
   ]
  },
  {
   "cell_type": "code",
   "execution_count": 20,
   "metadata": {},
   "outputs": [],
   "source": [
    "# create simplified predictions files and move original version to hidden folder\n",
    "for file_id in prediction_file_identifiers:\n",
    "    \n",
    "    # open current file\n",
    "    with open(path_to_repository + \"evaluation/\"+file_id+\".pkl\", 'rb') as file:\n",
    "        original_predictions = pickle.load(file)\n",
    "    \n",
    "    # remove text and gold label, only keep id\n",
    "    short_predictions = []\n",
    "    for prediction in original_predictions:\n",
    "        del prediction[\"text\"]\n",
    "        del prediction[\"gold\"]\n",
    "        short_predictions += [prediction]\n",
    "    \n",
    "    # save short predictions to file\n",
    "    with open(path_to_repository+\"predictions/simplified_\"+file_id+\".pkl\", 'wb') as file:\n",
    "        pickle.dump(short_predictions, file)\n",
    "    \n",
    "    # move original prediction file to hidden folder\n",
    "    move_file(file_id,\"pkl\",\"evaluation\",\"hidden\")"
   ]
  },
  {
   "cell_type": "code",
   "execution_count": null,
   "metadata": {},
   "outputs": [],
   "source": []
  }
 ],
 "metadata": {
  "kernelspec": {
   "display_name": ".cslp_proj_env",
   "language": "python",
   "name": "python3"
  },
  "language_info": {
   "codemirror_mode": {
    "name": "ipython",
    "version": 3
   },
   "file_extension": ".py",
   "mimetype": "text/x-python",
   "name": "python",
   "nbconvert_exporter": "python",
   "pygments_lexer": "ipython3",
   "version": "3.8.19"
  }
 },
 "nbformat": 4,
 "nbformat_minor": 2
}
